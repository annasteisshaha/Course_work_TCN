{
 "cells": [
  {
   "cell_type": "code",
   "execution_count": 1,
   "metadata": {
    "colab": {
     "base_uri": "https://localhost:8080/"
    },
    "id": "dmwzRIheVEtL",
    "outputId": "a1784037-0afb-4476-8bb6-74cdabf5804b"
   },
   "outputs": [
    {
     "name": "stdout",
     "output_type": "stream",
     "text": [
      "Collecting dgl\n",
      "  Downloading dgl-2.1.0-cp310-cp310-manylinux1_x86_64.whl (8.5 MB)\n",
      "\u001b[2K     \u001b[90m━━━━━━━━━━━━━━━━━━━━━━━━━━━━━━━━━━━━━━━━\u001b[0m \u001b[32m8.5/8.5 MB\u001b[0m \u001b[31m50.4 MB/s\u001b[0m eta \u001b[36m0:00:00\u001b[0m\n",
      "\u001b[?25hRequirement already satisfied: numpy>=1.14.0 in /usr/local/lib/python3.10/dist-packages (from dgl) (1.25.2)\n",
      "Requirement already satisfied: scipy>=1.1.0 in /usr/local/lib/python3.10/dist-packages (from dgl) (1.11.4)\n",
      "Requirement already satisfied: networkx>=2.1 in /usr/local/lib/python3.10/dist-packages (from dgl) (3.3)\n",
      "Requirement already satisfied: requests>=2.19.0 in /usr/local/lib/python3.10/dist-packages (from dgl) (2.31.0)\n",
      "Requirement already satisfied: tqdm in /usr/local/lib/python3.10/dist-packages (from dgl) (4.66.4)\n",
      "Requirement already satisfied: psutil>=5.8.0 in /usr/local/lib/python3.10/dist-packages (from dgl) (5.9.5)\n",
      "Requirement already satisfied: torchdata>=0.5.0 in /usr/local/lib/python3.10/dist-packages (from dgl) (0.7.1)\n",
      "Requirement already satisfied: charset-normalizer<4,>=2 in /usr/local/lib/python3.10/dist-packages (from requests>=2.19.0->dgl) (3.3.2)\n",
      "Requirement already satisfied: idna<4,>=2.5 in /usr/local/lib/python3.10/dist-packages (from requests>=2.19.0->dgl) (3.7)\n",
      "Requirement already satisfied: urllib3<3,>=1.21.1 in /usr/local/lib/python3.10/dist-packages (from requests>=2.19.0->dgl) (2.0.7)\n",
      "Requirement already satisfied: certifi>=2017.4.17 in /usr/local/lib/python3.10/dist-packages (from requests>=2.19.0->dgl) (2024.2.2)\n",
      "Requirement already satisfied: torch>=2 in /usr/local/lib/python3.10/dist-packages (from torchdata>=0.5.0->dgl) (2.2.1+cu121)\n",
      "Requirement already satisfied: filelock in /usr/local/lib/python3.10/dist-packages (from torch>=2->torchdata>=0.5.0->dgl) (3.14.0)\n",
      "Requirement already satisfied: typing-extensions>=4.8.0 in /usr/local/lib/python3.10/dist-packages (from torch>=2->torchdata>=0.5.0->dgl) (4.11.0)\n",
      "Requirement already satisfied: sympy in /usr/local/lib/python3.10/dist-packages (from torch>=2->torchdata>=0.5.0->dgl) (1.12)\n",
      "Requirement already satisfied: jinja2 in /usr/local/lib/python3.10/dist-packages (from torch>=2->torchdata>=0.5.0->dgl) (3.1.4)\n",
      "Requirement already satisfied: fsspec in /usr/local/lib/python3.10/dist-packages (from torch>=2->torchdata>=0.5.0->dgl) (2023.6.0)\n",
      "Collecting nvidia-cuda-nvrtc-cu12==12.1.105 (from torch>=2->torchdata>=0.5.0->dgl)\n",
      "  Using cached nvidia_cuda_nvrtc_cu12-12.1.105-py3-none-manylinux1_x86_64.whl (23.7 MB)\n",
      "Collecting nvidia-cuda-runtime-cu12==12.1.105 (from torch>=2->torchdata>=0.5.0->dgl)\n",
      "  Using cached nvidia_cuda_runtime_cu12-12.1.105-py3-none-manylinux1_x86_64.whl (823 kB)\n",
      "Collecting nvidia-cuda-cupti-cu12==12.1.105 (from torch>=2->torchdata>=0.5.0->dgl)\n",
      "  Using cached nvidia_cuda_cupti_cu12-12.1.105-py3-none-manylinux1_x86_64.whl (14.1 MB)\n",
      "Collecting nvidia-cudnn-cu12==8.9.2.26 (from torch>=2->torchdata>=0.5.0->dgl)\n",
      "  Using cached nvidia_cudnn_cu12-8.9.2.26-py3-none-manylinux1_x86_64.whl (731.7 MB)\n",
      "Collecting nvidia-cublas-cu12==12.1.3.1 (from torch>=2->torchdata>=0.5.0->dgl)\n",
      "  Using cached nvidia_cublas_cu12-12.1.3.1-py3-none-manylinux1_x86_64.whl (410.6 MB)\n",
      "Collecting nvidia-cufft-cu12==11.0.2.54 (from torch>=2->torchdata>=0.5.0->dgl)\n",
      "  Using cached nvidia_cufft_cu12-11.0.2.54-py3-none-manylinux1_x86_64.whl (121.6 MB)\n",
      "Collecting nvidia-curand-cu12==10.3.2.106 (from torch>=2->torchdata>=0.5.0->dgl)\n",
      "  Using cached nvidia_curand_cu12-10.3.2.106-py3-none-manylinux1_x86_64.whl (56.5 MB)\n",
      "Collecting nvidia-cusolver-cu12==11.4.5.107 (from torch>=2->torchdata>=0.5.0->dgl)\n",
      "  Using cached nvidia_cusolver_cu12-11.4.5.107-py3-none-manylinux1_x86_64.whl (124.2 MB)\n",
      "Collecting nvidia-cusparse-cu12==12.1.0.106 (from torch>=2->torchdata>=0.5.0->dgl)\n",
      "  Using cached nvidia_cusparse_cu12-12.1.0.106-py3-none-manylinux1_x86_64.whl (196.0 MB)\n",
      "Collecting nvidia-nccl-cu12==2.19.3 (from torch>=2->torchdata>=0.5.0->dgl)\n",
      "  Using cached nvidia_nccl_cu12-2.19.3-py3-none-manylinux1_x86_64.whl (166.0 MB)\n",
      "Collecting nvidia-nvtx-cu12==12.1.105 (from torch>=2->torchdata>=0.5.0->dgl)\n",
      "  Using cached nvidia_nvtx_cu12-12.1.105-py3-none-manylinux1_x86_64.whl (99 kB)\n",
      "Requirement already satisfied: triton==2.2.0 in /usr/local/lib/python3.10/dist-packages (from torch>=2->torchdata>=0.5.0->dgl) (2.2.0)\n",
      "Collecting nvidia-nvjitlink-cu12 (from nvidia-cusolver-cu12==11.4.5.107->torch>=2->torchdata>=0.5.0->dgl)\n",
      "  Using cached nvidia_nvjitlink_cu12-12.4.127-py3-none-manylinux2014_x86_64.whl (21.1 MB)\n",
      "Requirement already satisfied: MarkupSafe>=2.0 in /usr/local/lib/python3.10/dist-packages (from jinja2->torch>=2->torchdata>=0.5.0->dgl) (2.1.5)\n",
      "Requirement already satisfied: mpmath>=0.19 in /usr/local/lib/python3.10/dist-packages (from sympy->torch>=2->torchdata>=0.5.0->dgl) (1.3.0)\n",
      "Installing collected packages: nvidia-nvtx-cu12, nvidia-nvjitlink-cu12, nvidia-nccl-cu12, nvidia-curand-cu12, nvidia-cufft-cu12, nvidia-cuda-runtime-cu12, nvidia-cuda-nvrtc-cu12, nvidia-cuda-cupti-cu12, nvidia-cublas-cu12, nvidia-cusparse-cu12, nvidia-cudnn-cu12, nvidia-cusolver-cu12, dgl\n",
      "Successfully installed dgl-2.1.0 nvidia-cublas-cu12-12.1.3.1 nvidia-cuda-cupti-cu12-12.1.105 nvidia-cuda-nvrtc-cu12-12.1.105 nvidia-cuda-runtime-cu12-12.1.105 nvidia-cudnn-cu12-8.9.2.26 nvidia-cufft-cu12-11.0.2.54 nvidia-curand-cu12-10.3.2.106 nvidia-cusolver-cu12-11.4.5.107 nvidia-cusparse-cu12-12.1.0.106 nvidia-nccl-cu12-2.19.3 nvidia-nvjitlink-cu12-12.4.127 nvidia-nvtx-cu12-12.1.105\n"
     ]
    }
   ],
   "source": [
    "!pip install dgl"
   ]
  },
  {
   "cell_type": "code",
   "execution_count": 2,
   "metadata": {
    "colab": {
     "base_uri": "https://localhost:8080/"
    },
    "id": "_PQLTh26VYJ4",
    "outputId": "4349bcab-e9bb-4aea-8008-c03f0c42022d"
   },
   "outputs": [
    {
     "name": "stderr",
     "output_type": "stream",
     "text": [
      "DGL backend not selected or invalid.  Assuming PyTorch for now.\n"
     ]
    },
    {
     "name": "stdout",
     "output_type": "stream",
     "text": [
      "Setting the default backend to \"pytorch\". You can change it in the ~/.dgl/config.json file or export the DGLBACKEND environment variable.  Valid options are: pytorch, mxnet, tensorflow (all lowercase)\n"
     ]
    }
   ],
   "source": [
    "from dgl.data.utils import load_graphs\n",
    "import dgl\n",
    "import torch as th\n",
    "import dgl.nn as dglnn\n",
    "import dgl.function as fn\n",
    "import torch.nn as nn\n",
    "from sklearn.metrics import roc_auc_score"
   ]
  },
  {
   "cell_type": "code",
   "execution_count": 3,
   "metadata": {
    "colab": {
     "base_uri": "https://localhost:8080/"
    },
    "id": "45Tm5kvLWQNg",
    "outputId": "d9b94891-876f-4e47-f7db-a9642e923e09"
   },
   "outputs": [
    {
     "data": {
      "text/plain": [
       "Graph(num_nodes={'company': 1485, 'okved': 1491},\n",
       "      num_edges={('company', 'dop_okved', 'okved'): 31667, ('company', 'main_okved', 'okved'): 1485, ('okved', 'dop_okved_for', 'company'): 31667, ('okved', 'parent', 'okved'): 1407},\n",
       "      metagraph=[('company', 'okved', 'dop_okved'), ('company', 'okved', 'main_okved'), ('okved', 'company', 'dop_okved_for'), ('okved', 'okved', 'parent')])"
      ]
     },
     "execution_count": 3,
     "metadata": {},
     "output_type": "execute_result"
    }
   ],
   "source": [
    "G = load_graphs('/content/drive/MyDrive/Graph.bin')\n",
    "G = G[0][0]\n",
    "G"
   ]
  },
  {
   "cell_type": "code",
   "execution_count": null,
   "metadata": {
    "colab": {
     "base_uri": "https://localhost:8080/"
    },
    "id": "O80ybo5FXkeR",
    "outputId": "5e4cb298-f61d-4c23-9430-37d323370a93"
   },
   "outputs": [
    {
     "data": {
      "text/plain": [
       "(2976, 66226)"
      ]
     },
     "execution_count": 190,
     "metadata": {},
     "output_type": "execute_result"
    }
   ],
   "source": [
    "G.num_nodes(), G.num_edges()"
   ]
  },
  {
   "cell_type": "code",
   "execution_count": 56,
   "metadata": {
    "id": "hCk2BeXI86lO"
   },
   "outputs": [],
   "source": [
    "mask = (th.rand(31667) > 0.8)\n",
    "G.edges['dop_okved'].data['mask'] = mask\n",
    "G.edges['dop_okved_for'].data['mask'] = mask"
   ]
  },
  {
   "cell_type": "code",
   "execution_count": 68,
   "metadata": {
    "id": "HYb7bFYG3dwZ"
   },
   "outputs": [],
   "source": [
    "train_edge_dict = {etype: (G.edges[etype].data['mask'] == 0).nonzero(as_tuple=True)[0] for etype in ['dop_okved', 'dop_okved_for']}\n",
    "test_edge_dict   = {etype: (G.edges[etype].data['mask'] == 1).nonzero(as_tuple=True)[0] for etype in ['dop_okved', 'dop_okved_for']}"
   ]
  },
  {
   "cell_type": "code",
   "execution_count": 72,
   "metadata": {
    "id": "N_tNnBwAAWno"
   },
   "outputs": [],
   "source": [
    "G_train = load_graphs('/content/drive/MyDrive/Graph.bin')\n",
    "G_train = G_train[0][0]\n",
    "\n",
    "for etype in ['dop_okved', 'dop_okved_for']:\n",
    "  G_train = dgl.remove_edges(G_train, etype=etype, eids=test_edge_dict[etype])"
   ]
  },
  {
   "cell_type": "code",
   "execution_count": 74,
   "metadata": {
    "id": "L4McHihJAiAG"
   },
   "outputs": [],
   "source": [
    "G_test = load_graphs('/content/drive/MyDrive/Graph.bin')\n",
    "G_test = G_test[0][0]\n",
    "\n",
    "for etype in ['dop_okved', 'dop_okved_for']:\n",
    "  G_test = dgl.remove_edges(G_test, etype=etype, eids=train_edge_dict[etype])"
   ]
  },
  {
   "cell_type": "code",
   "execution_count": 73,
   "metadata": {
    "colab": {
     "base_uri": "https://localhost:8080/"
    },
    "id": "XAXR5nlIAfUq",
    "outputId": "2d83878d-bc5e-4fe5-f958-63541048dcfb"
   },
   "outputs": [
    {
     "data": {
      "text/plain": [
       "Graph(num_nodes={'company': 1485, 'okved': 1491},\n",
       "      num_edges={('company', 'dop_okved', 'okved'): 25229, ('company', 'main_okved', 'okved'): 1485, ('okved', 'dop_okved_for', 'company'): 25229, ('okved', 'parent', 'okved'): 1407},\n",
       "      metagraph=[('company', 'okved', 'dop_okved'), ('company', 'okved', 'main_okved'), ('okved', 'company', 'dop_okved_for'), ('okved', 'okved', 'parent')])"
      ]
     },
     "execution_count": 73,
     "metadata": {},
     "output_type": "execute_result"
    }
   ],
   "source": [
    "G_train"
   ]
  },
  {
   "cell_type": "code",
   "execution_count": 75,
   "metadata": {
    "colab": {
     "base_uri": "https://localhost:8080/"
    },
    "id": "2cUyS1oYAswn",
    "outputId": "30c0cdbb-42f4-4530-ac34-8a0ddc92ce87"
   },
   "outputs": [
    {
     "data": {
      "text/plain": [
       "Graph(num_nodes={'company': 1485, 'okved': 1491},\n",
       "      num_edges={('company', 'dop_okved', 'okved'): 6438, ('company', 'main_okved', 'okved'): 1485, ('okved', 'dop_okved_for', 'company'): 6438, ('okved', 'parent', 'okved'): 1407},\n",
       "      metagraph=[('company', 'okved', 'dop_okved'), ('company', 'okved', 'main_okved'), ('okved', 'company', 'dop_okved_for'), ('okved', 'okved', 'parent')])"
      ]
     },
     "execution_count": 75,
     "metadata": {},
     "output_type": "execute_result"
    }
   ],
   "source": [
    "G_test"
   ]
  },
  {
   "cell_type": "code",
   "execution_count": 76,
   "metadata": {
    "id": "OJvzcW_3aXnp"
   },
   "outputs": [],
   "source": [
    "class HeteroDotProductPredictor(nn.Module):\n",
    "    def forward(self, graph, h, etype):\n",
    "        with graph.local_scope():\n",
    "            graph.ndata['h'] = h\n",
    "            graph.apply_edges(fn.u_dot_v('h', 'h', 'score'), etype=etype)\n",
    "            return graph.edges[etype].data['score']"
   ]
  },
  {
   "cell_type": "code",
   "execution_count": 77,
   "metadata": {
    "id": "7RqoLuBygsYI"
   },
   "outputs": [],
   "source": [
    "def construct_negative_graph(graph, k, etype):\n",
    "    utype, _, vtype = etype\n",
    "    src, dst = graph.edges(etype=etype)\n",
    "    neg_src = src.repeat_interleave(k)\n",
    "    neg_dst = th.randint(0, graph.num_nodes(vtype), (len(src) * k,))\n",
    "    return dgl.heterograph(\n",
    "        {etype: (neg_src, neg_dst)},\n",
    "        num_nodes_dict={ntype: graph.num_nodes(ntype) for ntype in graph.ntypes})"
   ]
  },
  {
   "cell_type": "code",
   "execution_count": 89,
   "metadata": {
    "id": "dmoJ3s5fsijE"
   },
   "outputs": [],
   "source": [
    "def compute_loss(pos_score, neg_score):\n",
    "    n_edges = pos_score.shape[0]\n",
    "    return (1 - pos_score + neg_score.view(n_edges, -1)).clamp(min=0).mean()\n",
    "\n",
    "def compute_auc(pos_score, neg_score):\n",
    "    scores = th.cat([pos_score, neg_score]).numpy()\n",
    "    labels = th.cat(\n",
    "        [th.ones(pos_score.shape[0]), th.zeros(neg_score.shape[0])]\n",
    "    ).numpy()\n",
    "    return roc_auc_score(labels, scores)"
   ]
  },
  {
   "cell_type": "markdown",
   "metadata": {
    "id": "YT-AioaDJhtm"
   },
   "source": [
    "### Модель 1"
   ]
  },
  {
   "cell_type": "code",
   "execution_count": 87,
   "metadata": {
    "id": "-da4-8p-g4ew"
   },
   "outputs": [],
   "source": [
    "class RGCN1(nn.Module):\n",
    "    def __init__(self, in_feats, hid_feats, out_feats, rel_names):\n",
    "        super().__init__()\n",
    "        self.conv1 = dglnn.HeteroGraphConv({\n",
    "            rel: dglnn.GraphConv(in_feats, hid_feats)\n",
    "            for rel in rel_names}, aggregate='sum')\n",
    "        self.conv2 = dglnn.HeteroGraphConv({\n",
    "            rel: dglnn.GraphConv(hid_feats, out_feats)\n",
    "            for rel in rel_names}, aggregate='sum')\n",
    "        self.fc = nn.Linear(in_features=772, out_features=768)\n",
    "\n",
    "    def forward(self, graph, inputs):\n",
    "        inputs_current = inputs.copy()\n",
    "        inputs_current['company'] = self.fc(inputs_current['company'])\n",
    "        h = self.conv1(graph, inputs_current)\n",
    "        h = {k: v.relu() for k, v in h.items()}\n",
    "        h = self.conv2(graph, h)\n",
    "        return h"
   ]
  },
  {
   "cell_type": "code",
   "execution_count": 88,
   "metadata": {
    "id": "GsOUqfwWguVR"
   },
   "outputs": [],
   "source": [
    "class Model1(nn.Module):\n",
    "    def __init__(self, in_features, hidden_features, out_features, rel_names):\n",
    "        super().__init__()\n",
    "        self.sage = RGCN1(in_features, hidden_features, out_features, rel_names)\n",
    "        self.pred = HeteroDotProductPredictor()\n",
    "    def forward(self, g, neg_g, x, etype):\n",
    "        h = self.sage(g, x)\n",
    "        return self.pred(g, h, etype), self.pred(neg_g, h, etype)"
   ]
  },
  {
   "cell_type": "code",
   "execution_count": 81,
   "metadata": {
    "id": "aJt_oBf5Bhhg"
   },
   "outputs": [],
   "source": [
    "columns = ['is_social', 'licenses', 'workers', 'category']\n",
    "dop_train = G_train.nodes['company'].data['address']\n",
    "dop_test = G_test.nodes['company'].data['address']\n",
    "\n",
    "for v in columns:\n",
    "  dop_train = th.hstack((dop_train, G_train.nodes['company'].data[v].reshape(-1, 1)))\n",
    "  dop_test = th.hstack((dop_test, G_test.nodes['company'].data[v].reshape(-1, 1)))\n",
    "\n",
    "company_feats_train = dop_train.float()\n",
    "company_feats_test = dop_test.float()\n",
    "okved_feats_train = G_train.nodes['okved'].data['embeddings'].float()\n",
    "okved_feats_test = G_test.nodes['okved'].data['embeddings'].float()\n",
    "\n",
    "\n",
    "node_features_train = {'company': company_feats_train, 'okved': okved_feats_train}\n",
    "node_features_test = {'company': company_feats_test, 'okved': okved_feats_test}"
   ]
  },
  {
   "cell_type": "code",
   "execution_count": 91,
   "metadata": {
    "colab": {
     "base_uri": "https://localhost:8080/"
    },
    "id": "_pWPDfbIpYIz",
    "outputId": "3b821941-e10a-4d85-c3b9-4f7ca379e0a4"
   },
   "outputs": [
    {
     "name": "stdout",
     "output_type": "stream",
     "text": [
      "epoch=0, loss.item()=1.4759693145751953\n",
      "epoch=10, loss.item()=0.4067320227622986\n",
      "epoch=20, loss.item()=0.3682614266872406\n",
      "epoch=30, loss.item()=0.35735753178596497\n",
      "epoch=40, loss.item()=0.3535016179084778\n",
      "epoch=50, loss.item()=0.34343522787094116\n",
      "epoch=60, loss.item()=0.3396366834640503\n",
      "epoch=70, loss.item()=0.3288930058479309\n",
      "epoch=80, loss.item()=0.323442280292511\n",
      "epoch=90, loss.item()=0.314399778842926\n",
      "AUC_test 0.8526661435031457\n"
     ]
    }
   ],
   "source": [
    "k = 5\n",
    "model1 = Model1(768, 50, 16, G_train.etypes)\n",
    "\n",
    "lr = 3e-4\n",
    "opt = th.optim.Adam(model1.parameters(), lr=lr)\n",
    "\n",
    "for epoch in range(100):\n",
    "    negative_graph_train = construct_negative_graph(G_train, k, ('company', 'dop_okved', 'okved'))\n",
    "    pos_score_train, neg_score_train = model1(G_train, negative_graph_train, node_features_train, ('company', 'dop_okved', 'okved'))\n",
    "    loss = compute_loss(pos_score_train, neg_score_train)\n",
    "\n",
    "    opt.zero_grad()\n",
    "    loss.backward()\n",
    "    opt.step()\n",
    "\n",
    "    if epoch % 10 == 0:\n",
    "      print(f'{epoch=}, {loss.item()=}')\n",
    "\n",
    "with th.no_grad():\n",
    "    negative_graph_test = construct_negative_graph(G_test, k, ('company', 'dop_okved', 'okved'))\n",
    "    pos_score_test, neg_score_test = model1(G_test, negative_graph_test, node_features_test, ('company', 'dop_okved', 'okved'))\n",
    "\n",
    "    print(\"AUC_test\", compute_auc(pos_score_test, neg_score_test))"
   ]
  },
  {
   "cell_type": "code",
   "execution_count": 111,
   "metadata": {
    "id": "69uj0oiSHImq"
   },
   "outputs": [],
   "source": [
    "th.save(model1, '/content/drive/MyDrive/model1')"
   ]
  },
  {
   "cell_type": "markdown",
   "metadata": {
    "id": "CCSyOdKZJulo"
   },
   "source": [
    "### Модель 2"
   ]
  },
  {
   "cell_type": "code",
   "execution_count": 115,
   "metadata": {
    "id": "n_vZtGLsJarR"
   },
   "outputs": [],
   "source": [
    "class RGCN2(nn.Module):\n",
    "    def __init__(self, in_feats, hid_feats, out_feats, rel_names):\n",
    "        super().__init__()\n",
    "        self.conv1 = dglnn.HeteroGraphConv({\n",
    "            rel: dglnn.SAGEConv(in_feats, hid_feats, aggregator_type='mean')\n",
    "            for rel in rel_names}, aggregate='sum')\n",
    "        self.conv2 = dglnn.HeteroGraphConv({\n",
    "            rel: dglnn.SAGEConv(hid_feats, out_feats, aggregator_type='mean')\n",
    "            for rel in rel_names}, aggregate='sum')\n",
    "        self.fc = nn.Linear(in_features=772, out_features=768)\n",
    "\n",
    "    def forward(self, graph, inputs):\n",
    "        inputs_current = inputs.copy()\n",
    "        inputs_current['company'] = self.fc(inputs_current['company'])\n",
    "        h = self.conv1(graph, inputs_current)\n",
    "        h = {k: v.relu() for k, v in h.items()}\n",
    "        h = self.conv2(graph, h)\n",
    "        return h"
   ]
  },
  {
   "cell_type": "code",
   "execution_count": 116,
   "metadata": {
    "id": "Z_30gAE9Ja2O"
   },
   "outputs": [],
   "source": [
    "class Model2(nn.Module):\n",
    "    def __init__(self, in_features, hidden_features, out_features, rel_names):\n",
    "        super().__init__()\n",
    "        self.sage = RGCN2(in_features, hidden_features, out_features, rel_names)\n",
    "        self.pred = HeteroDotProductPredictor()\n",
    "    def forward(self, g, neg_g, x, etype):\n",
    "        h = self.sage(g, x)\n",
    "        return self.pred(g, h, etype), self.pred(neg_g, h, etype)"
   ]
  },
  {
   "cell_type": "code",
   "execution_count": 117,
   "metadata": {
    "colab": {
     "base_uri": "https://localhost:8080/"
    },
    "id": "zMXN4mAbJa-J",
    "outputId": "d5e98a93-f7ae-4c76-c0b8-9aefb5409651"
   },
   "outputs": [
    {
     "name": "stdout",
     "output_type": "stream",
     "text": [
      "epoch=0, loss.item()=25.688762664794922\n",
      "epoch=10, loss.item()=2.5810346603393555\n",
      "epoch=20, loss.item()=1.2477132081985474\n",
      "epoch=30, loss.item()=0.8050557971000671\n",
      "epoch=40, loss.item()=0.6427587270736694\n",
      "epoch=50, loss.item()=0.5568554401397705\n",
      "epoch=60, loss.item()=0.5101040601730347\n",
      "epoch=70, loss.item()=0.4730355143547058\n",
      "epoch=80, loss.item()=0.44464942812919617\n",
      "epoch=90, loss.item()=0.4236791133880615\n",
      "AUC_test 0.8270885042898733\n"
     ]
    }
   ],
   "source": [
    "k = 5\n",
    "model2 = Model2(768, 50, 16, G_train.etypes)\n",
    "\n",
    "lr = 3e-4\n",
    "opt = th.optim.Adam(model2.parameters(), lr=lr)\n",
    "\n",
    "for epoch in range(100):\n",
    "    negative_graph_train = construct_negative_graph(G_train, k, ('company', 'dop_okved', 'okved'))\n",
    "    pos_score_train, neg_score_train = model2(G_train, negative_graph_train, node_features_train, ('company', 'dop_okved', 'okved'))\n",
    "    loss = compute_loss(pos_score_train, neg_score_train)\n",
    "\n",
    "    opt.zero_grad()\n",
    "    loss.backward()\n",
    "    opt.step()\n",
    "\n",
    "    if epoch % 10 == 0:\n",
    "      print(f'{epoch=}, {loss.item()=}')\n",
    "\n",
    "with th.no_grad():\n",
    "    negative_graph_test = construct_negative_graph(G_test, k, ('company', 'dop_okved', 'okved'))\n",
    "    pos_score_test, neg_score_test = model2(G_test, negative_graph_test, node_features_test, ('company', 'dop_okved', 'okved'))\n",
    "\n",
    "    print(\"AUC_test\", compute_auc(pos_score_test, neg_score_test))"
   ]
  },
  {
   "cell_type": "code",
   "execution_count": 118,
   "metadata": {
    "id": "gBJmvmP0JbFQ"
   },
   "outputs": [],
   "source": [
    "th.save(model2, '/content/drive/MyDrive/model2')"
   ]
  },
  {
   "cell_type": "markdown",
   "metadata": {
    "id": "HFvXoYnaLChF"
   },
   "source": [
    "### Модель 3"
   ]
  },
  {
   "cell_type": "code",
   "execution_count": 130,
   "metadata": {
    "id": "A52B8RjqJbMw"
   },
   "outputs": [],
   "source": [
    "class RGCN3(nn.Module):\n",
    "    def __init__(self, in_feats, hid_feats, out_feats, rel_names):\n",
    "        super().__init__()\n",
    "        self.conv1 = dglnn.HeteroGraphConv({\n",
    "            rel: dglnn.GATConv(in_feats, hid_feats, num_heads=3)\n",
    "            for rel in rel_names}, aggregate='sum')\n",
    "        self.conv2 = dglnn.HeteroGraphConv({\n",
    "            rel: dglnn.GATConv(hid_feats, out_feats, num_heads=3)\n",
    "            for rel in rel_names}, aggregate='sum')\n",
    "        self.fc = nn.Linear(in_features=772, out_features=768)\n",
    "\n",
    "    def forward(self, graph, inputs):\n",
    "        inputs_current = inputs.copy()\n",
    "        inputs_current['company'] = self.fc(inputs_current['company'])\n",
    "        h = self.conv1(graph, inputs_current)\n",
    "        h = {k: v.relu() for k, v in h.items()}\n",
    "        h = self.conv2(graph, h)\n",
    "        return h"
   ]
  },
  {
   "cell_type": "code",
   "execution_count": 131,
   "metadata": {
    "id": "f2xTr73BJbTr"
   },
   "outputs": [],
   "source": [
    "class Model3(nn.Module):\n",
    "    def __init__(self, in_features, hidden_features, out_features, rel_names):\n",
    "        super().__init__()\n",
    "        self.sage = RGCN3(in_features, hidden_features, out_features, rel_names)\n",
    "        self.pred = HeteroDotProductPredictor()\n",
    "    def forward(self, g, neg_g, x, etype):\n",
    "        h = self.sage(g, x)\n",
    "        return self.pred(g, h, etype), self.pred(neg_g, h, etype)"
   ]
  },
  {
   "cell_type": "code",
   "execution_count": 132,
   "metadata": {
    "colab": {
     "base_uri": "https://localhost:8080/"
    },
    "id": "8_JzFSdEJba3",
    "outputId": "2b4ff606-1c54-4d0c-aa94-8f84942a21e7"
   },
   "outputs": [
    {
     "name": "stdout",
     "output_type": "stream",
     "text": [
      "epoch=0, loss.item()=17.956899642944336\n",
      "epoch=10, loss.item()=1.142255425453186\n",
      "epoch=20, loss.item()=0.7408223152160645\n",
      "epoch=30, loss.item()=0.5653435587882996\n",
      "epoch=40, loss.item()=0.41331425309181213\n",
      "epoch=50, loss.item()=0.35496124625205994\n",
      "epoch=60, loss.item()=0.3170761466026306\n",
      "epoch=70, loss.item()=0.2923521399497986\n",
      "epoch=80, loss.item()=0.2741198241710663\n",
      "epoch=90, loss.item()=0.26080039143562317\n",
      "AUC_test 0.8579836287745148\n"
     ]
    }
   ],
   "source": [
    "k = 5\n",
    "model3 = Model3(768, 50, 16, G_train.etypes)\n",
    "\n",
    "lr = 3e-4\n",
    "opt = th.optim.Adam(model3.parameters(), lr=lr)\n",
    "\n",
    "for epoch in range(100):\n",
    "    negative_graph_train = construct_negative_graph(G_train, k, ('company', 'dop_okved', 'okved'))\n",
    "    pos_score_train, neg_score_train = model3(G_train, negative_graph_train, node_features_train, ('company', 'dop_okved', 'okved'))\n",
    "    loss = compute_loss(pos_score_train.mean(dim=[1, 2]), neg_score_train.mean(dim=[1, 2]))\n",
    "\n",
    "    opt.zero_grad()\n",
    "    loss.backward()\n",
    "    opt.step()\n",
    "\n",
    "    if epoch % 10 == 0:\n",
    "      print(f'{epoch=}, {loss.item()=}')\n",
    "\n",
    "with th.no_grad():\n",
    "    negative_graph_test = construct_negative_graph(G_test, k, ('company', 'dop_okved', 'okved'))\n",
    "    pos_score_test, neg_score_test = model3(G_test, negative_graph_test, node_features_test, ('company', 'dop_okved', 'okved'))\n",
    "\n",
    "    print(\"AUC_test\", compute_auc(pos_score_test.mean(dim=[1, 2]), neg_score_test.mean(dim=[1, 2])))"
   ]
  },
  {
   "cell_type": "code",
   "execution_count": 133,
   "metadata": {
    "id": "TrgdOm52Jbnu"
   },
   "outputs": [],
   "source": [
    "th.save(model3, '/content/drive/MyDrive/model3')"
   ]
  }
 ],
 "metadata": {
  "colab": {
   "provenance": []
  },
  "kernelspec": {
   "display_name": "Python 3 (ipykernel)",
   "language": "python",
   "name": "python3"
  },
  "language_info": {
   "codemirror_mode": {
    "name": "ipython",
    "version": 3
   },
   "file_extension": ".py",
   "mimetype": "text/x-python",
   "name": "python",
   "nbconvert_exporter": "python",
   "pygments_lexer": "ipython3",
   "version": "3.10.9"
  }
 },
 "nbformat": 4,
 "nbformat_minor": 1
}
